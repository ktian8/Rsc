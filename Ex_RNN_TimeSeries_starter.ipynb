{
  "nbformat": 4,
  "nbformat_minor": 0,
  "metadata": {
    "colab": {
      "provenance": [],
      "gpuType": "T4"
    },
    "kernelspec": {
      "name": "python3",
      "display_name": "Python 3"
    },
    "language_info": {
      "name": "python"
    },
    "accelerator": "GPU"
  },
  "cells": [
    {
      "cell_type": "code",
      "execution_count": 1,
      "metadata": {
        "id": "gS6_Za-nxXLs"
      },
      "outputs": [],
      "source": [
        "import matplotlib.pyplot as plt\n",
        "import numpy as np\n",
        "import pandas as pd\n",
        "import tensorflow as tf\n",
        "from tensorflow import keras"
      ]
    },
    {
      "cell_type": "code",
      "source": [
        "# Load data using pandas\n",
        "bitcoin_url = 'https://raw.githubusercontent.com/RDeconomist/observatory/main/Bitcoin%20Price.csv'\n",
        "bitcoin_data = pd.read_csv(bitcoin_url)\n",
        "date = bitcoin_data['Date']\n",
        "price = bitcoin_data['Closing Price (USD)'].astype(float)\n",
        "print(f'Date range: {date.iloc[0]} to {date.iloc[-1]}')\n",
        "print(f'Min 1BTC=${??}; Max 1BTC=${??}')\n",
        "print(f'Min price occurred on {??}. Max price occurred on {??}')\n",
        "\n",
        "plt.plot(price)\n",
        "plt.ylabel('Bitcoin Price [$]')\n",
        "plt.xticks(range(0, len(date), 300), date.iloc[::300], rotation=30)\n",
        "plt.show()"
      ],
      "metadata": {
        "id": "W16zQ98YyAhn"
      },
      "execution_count": null,
      "outputs": []
    },
    {
      "cell_type": "code",
      "source": [
        "class TimeSeriesDataset(keras.utils.Sequence):\n",
        "    def __init__(self, time_series, sequence_length):\n",
        "        self.time_series = time_series\n",
        "        self.sequence_length = sequence_length\n",
        "        self._index = 0\n",
        "    def __len__(self):\n",
        "        return len(self.time_series) - self.sequence_length\n",
        "\n",
        "\n",
        "    def __getitem__(self, idx):\n",
        "        sequence = self.time_series[idx : idx + self.sequence_length]\n",
        "        return sequence\n",
        "\n",
        "    def __call__(self):\n",
        "        for i in range(self.__len__()):\n",
        "            yield self.__getitem__(i)\n",
        "\n",
        "\n",
        "print('=== Dataset ===')\n",
        "dataset = TimeSeriesDataset(??)\n",
        "t_idx = ??\n",
        "print(f\"Prices starting on {date[t_idx]}:\\n \", dataset[t_idx])"
      ],
      "metadata": {
        "id": "JFl3eB5e0PQ3"
      },
      "execution_count": null,
      "outputs": []
    },
    {
      "cell_type": "markdown",
      "source": [
        "## Linear Regression\n",
        "Let's fit a linear regression model to predict the bitcoin price on the 10th day from the previous 9 days."
      ],
      "metadata": {
        "id": "z76CDWrK0eTg"
      }
    },
    {
      "cell_type": "code",
      "source": [
        "import time\n",
        "\n",
        "def loss(pred, y):\n",
        "    \"\"\"Mean Absolute Error loss\"\"\"\n",
        "    return tf.reduce_mean(tf.abs(pred - y))\n",
        "\n",
        "def train(model, loss, dataloader, optimizer):\n",
        "    total_error = 0.\n",
        "    for i, sequences in enumerate(dataloader):\n",
        "        price_history = ??\n",
        "        price_now = sequences[:, -1]\n",
        "        target = ??\n",
        "\n",
        "        with tf.GradientTape() as tape:\n",
        "            pred_now = ??\n",
        "            l = loss(pred_now, target)\n",
        "        total_error += l.numpy()\n",
        "        grads = tape.gradient(l, model.trainable_variables)\n",
        "\n",
        "        optimizer.apply_gradients(zip(??, model.trainable_variables))\n",
        "    return total_error/i\n",
        "\n",
        "def fit(model, loss, dataloader, epochs=30):\n",
        "    optimizer = tf.optimizers.Adam(learning_rate=lr)\n",
        "    for ep in range(epochs):\n",
        "        err = train(model, loss, dataloader, optimizer)\n",
        "        print(f'[Ep{ep} Error {err:.3f}]')"
      ],
      "metadata": {
        "id": "hoXT262_00gw"
      },
      "execution_count": null,
      "outputs": []
    },
    {
      "cell_type": "code",
      "source": [
        "price_history_len = 9\n",
        "lr = 0.0005\n",
        "batch_size = 32\n",
        "epochs = 300\n",
        "\n",
        "model = keras.Sequential([\n",
        "    keras.layers.Dense(1, input_shape=(price_history_len,), use_bias=False)\n",
        "])\n",
        "\n",
        "dataset = TimeSeriesDataset(price.values, sequence_length=price_history_len + 1)\n",
        "dataloader = tf.data.Dataset.from_generator(dataset, output_signature=(tf.TensorSpec(shape=(10,), dtype=tf.float32))).batch(batch_size)"
      ],
      "metadata": {
        "id": "XDfuOM-Yxxao"
      },
      "execution_count": null,
      "outputs": []
    },
    {
      "cell_type": "code",
      "source": [
        "fit(model, loss, dataloader, epochs=epochs)"
      ],
      "metadata": {
        "id": "LnadvwGh1dhy"
      },
      "execution_count": null,
      "outputs": []
    },
    {
      "cell_type": "code",
      "source": [
        "predictions, errors = [], []\n",
        "for i in range(len(dataset)):\n",
        "    sequence = dataset[i]\n",
        "    past, now = ??\n",
        "    pred = ??\n",
        "    err = pred - now\n",
        "    errors.append(err)\n",
        "    predictions.append(pred)"
      ],
      "metadata": {
        "id": "mA9-Zdpic5Eq"
      },
      "execution_count": null,
      "outputs": []
    },
    {
      "cell_type": "code",
      "source": [
        "plt.plot([None] * 9 + predictions, label='prediction')\n",
        "plt.plot(price, label='ground truth')\n",
        "plt.ylabel('Bitcoin Price [$]')\n",
        "plt.xticks(range(0, len(date), 300), date.iloc[::300], rotation=30)\n",
        "plt.legend()\n",
        "plt.show()"
      ],
      "metadata": {
        "id": "_cQZ-MgzR0T_"
      },
      "execution_count": null,
      "outputs": []
    },
    {
      "cell_type": "code",
      "source": [
        "plt.hist(np.array(errors), bins=20, edgecolor='black')\n",
        "plt.xlabel('Error [$]')\n",
        "plt.ylabel('Frequency')\n",
        "plt.title('Histogram of Errors')\n",
        "plt.show()"
      ],
      "metadata": {
        "id": "bHfPf1C_vC3U"
      },
      "execution_count": null,
      "outputs": []
    }
  ]
}